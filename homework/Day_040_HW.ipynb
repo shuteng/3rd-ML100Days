{
 "cells": [
  {
   "cell_type": "markdown",
   "metadata": {},
   "source": [
    "## [作業重點]\n",
    "使用 Sklearn 中的 Lasso, Ridge 模型，來訓練各種資料集，務必了解送進去模型訓練的**資料型態**為何，也請了解模型中各項參數的意義。\n",
    "\n",
    "機器學習的模型非常多種，但要訓練的資料多半有固定的格式，確保你了解訓練資料的格式為何，這樣在應用新模型時，就能夠最快的上手開始訓練！"
   ]
  },
  {
   "cell_type": "markdown",
   "metadata": {},
   "source": [
    "## 練習時間\n",
    "試著使用 sklearn datasets 的其他資料集 (boston, ...)，來訓練自己的線性迴歸模型，並加上適當的正則化來觀察訓練情形。"
   ]
  },
  {
   "cell_type": "code",
   "execution_count": 1,
   "metadata": {},
   "outputs": [],
   "source": [
    "import warnings\n",
    "warnings.filterwarnings('ignore')"
   ]
  },
  {
   "cell_type": "code",
   "execution_count": 2,
   "metadata": {},
   "outputs": [],
   "source": [
    "import numpy as np\n",
    "import pandas as pd\n",
    "import matplotlib.pyplot as plt\n",
    "from sklearn.linear_model import LinearRegression, Lasso, RidgeClassifier, Ridge\n",
    "from sklearn.model_selection import train_test_split, cross_val_score\n",
    "from sklearn.datasets import load_boston, load_wine\n",
    "from sklearn.metrics import mean_squared_error"
   ]
  },
  {
   "cell_type": "markdown",
   "metadata": {},
   "source": [
    "# Boston"
   ]
  },
  {
   "cell_type": "code",
   "execution_count": 3,
   "metadata": {},
   "outputs": [],
   "source": [
    "boston = load_boston()"
   ]
  },
  {
   "cell_type": "code",
   "execution_count": 4,
   "metadata": {},
   "outputs": [],
   "source": [
    "X = boston.data\n",
    "y = boston.target"
   ]
  },
  {
   "cell_type": "code",
   "execution_count": 5,
   "metadata": {},
   "outputs": [],
   "source": [
    "xtrain, xtest, ytrain, ytest = train_test_split(X, y, test_size = 0.3, random_state = 1)"
   ]
  },
  {
   "cell_type": "code",
   "execution_count": 6,
   "metadata": {},
   "outputs": [],
   "source": [
    "LR = LinearRegression().fit(xtrain, ytrain)\n",
    "pred_y = LR.predict(xtest)"
   ]
  },
  {
   "cell_type": "code",
   "execution_count": 7,
   "metadata": {},
   "outputs": [
    {
     "name": "stdout",
     "output_type": "stream",
     "text": [
      "score: 0.7836295385076281\n",
      "mean square error: 19.831323672063235\n",
      "[-9.85424717e-02  6.07841138e-02  5.91715401e-02  2.43955988e+00\n",
      " -2.14699650e+01  2.79581385e+00  3.57459778e-03 -1.51627218e+00\n",
      "  3.07541745e-01 -1.12800166e-02 -1.00546640e+00  6.45018446e-03\n",
      " -5.68834539e-01]\n"
     ]
    }
   ],
   "source": [
    "print(f'score: {LR.score(xtest, ytest)}')\n",
    "print(f'mean square error: {mean_squared_error(ytest, pred_y)}')\n",
    "print(LR.coef_)"
   ]
  },
  {
   "cell_type": "markdown",
   "metadata": {},
   "source": [
    "# Lasso Regression"
   ]
  },
  {
   "cell_type": "code",
   "execution_count": 8,
   "metadata": {},
   "outputs": [],
   "source": [
    "LS = Lasso().fit(xtrain, ytrain)\n",
    "pred_y = LS.predict(xtest)"
   ]
  },
  {
   "cell_type": "code",
   "execution_count": 9,
   "metadata": {},
   "outputs": [
    {
     "name": "stdout",
     "output_type": "stream",
     "text": [
      "score: 0.6694782854622287\n",
      "mean square error: 30.29379822196717\n",
      "[-0.05256765  0.05904289 -0.          0.         -0.          0.\n",
      "  0.01964989 -0.5767539   0.23300934 -0.01230686 -0.72109227  0.00600289\n",
      " -0.79711475]\n"
     ]
    }
   ],
   "source": [
    "print(f'score: {LS.score(xtest, ytest)}')\n",
    "print(f'mean square error: {mean_squared_error(ytest, pred_y)}')\n",
    "print(LS.coef_)"
   ]
  },
  {
   "cell_type": "code",
   "execution_count": 10,
   "metadata": {},
   "outputs": [
    {
     "name": "stdout",
     "output_type": "stream",
     "text": [
      "max score: 0.786724355547493, alpha = 0.04081632653061224\n"
     ]
    }
   ],
   "source": [
    "score = []\n",
    "for i in np.linspace(0,1,50):\n",
    "    LS = Lasso(alpha=i).fit(xtrain, ytrain)\n",
    "    score.append(LS.score(xtest, ytest))\n",
    "print(f'max score: {max(score)}, alpha = {np.linspace(0,1,50)[score.index(max(score))]}')"
   ]
  },
  {
   "cell_type": "code",
   "execution_count": 11,
   "metadata": {},
   "outputs": [
    {
     "name": "stdout",
     "output_type": "stream",
     "text": [
      "score: 0.786724355547493\n",
      "mean square error: 19.547669803600503\n",
      "[-8.70083640e-02  6.24036754e-02 -0.00000000e+00  1.75661864e+00\n",
      " -8.10230570e+00  2.84882082e+00 -5.77990148e-03 -1.30647817e+00\n",
      "  2.78354513e-01 -1.27532597e-02 -8.47389998e-01  7.28673663e-03\n",
      " -5.90728464e-01]\n"
     ]
    }
   ],
   "source": [
    "LS = Lasso(alpha=np.linspace(0,1,50)[score.index(max(score))]).fit(xtrain, ytrain)\n",
    "pred_y = LS.predict(xtest)\n",
    "print(f'score: {LS.score(xtest, ytest)}')\n",
    "print(f'mean square error: {mean_squared_error(ytest, pred_y)}')\n",
    "print(LS.coef_)"
   ]
  },
  {
   "cell_type": "markdown",
   "metadata": {},
   "source": [
    "# Ridge Regression"
   ]
  },
  {
   "cell_type": "code",
   "execution_count": 12,
   "metadata": {},
   "outputs": [],
   "source": [
    "RR = Ridge().fit(xtrain, ytrain)\n",
    "pred_y = RR.predict(xtest)"
   ]
  },
  {
   "cell_type": "code",
   "execution_count": 13,
   "metadata": {},
   "outputs": [
    {
     "name": "stdout",
     "output_type": "stream",
     "text": [
      "score: 0.7890510666829773\n",
      "mean square error: 19.334416287843627\n",
      "[-8.99352520e-02  6.20345865e-02  1.21404325e-02  2.23426149e+00\n",
      " -1.12838152e+01  2.89618901e+00 -4.81458007e-03 -1.36998976e+00\n",
      "  2.83653073e-01 -1.22828776e-02 -8.84229846e-01  7.09753443e-03\n",
      " -5.80033848e-01]\n"
     ]
    }
   ],
   "source": [
    "print(f'score: {RR.score(xtest, ytest)}')\n",
    "print(f'mean square error: {mean_squared_error(ytest, pred_y)}')\n",
    "print(RR.coef_)"
   ]
  },
  {
   "cell_type": "code",
   "execution_count": 14,
   "metadata": {},
   "outputs": [
    {
     "name": "stdout",
     "output_type": "stream",
     "text": [
      "max score: 0.7890510666829773, alpha = 1.0\n"
     ]
    }
   ],
   "source": [
    "score = []\n",
    "for i in np.linspace(0,1,50):\n",
    "    RR = Ridge(alpha=i).fit(xtrain, ytrain)\n",
    "    score.append(RR.score(xtest, ytest))\n",
    "print(f'max score: {max(score)}, alpha = {np.linspace(0,1,50)[score.index(max(score))]}')"
   ]
  },
  {
   "cell_type": "markdown",
   "metadata": {},
   "source": [
    "--------------------------------------------------------------------------------------------------------------------------"
   ]
  },
  {
   "cell_type": "markdown",
   "metadata": {},
   "source": [
    "# Ridge Classification (Wine)"
   ]
  },
  {
   "cell_type": "code",
   "execution_count": 15,
   "metadata": {},
   "outputs": [],
   "source": [
    "wine = load_wine()"
   ]
  },
  {
   "cell_type": "code",
   "execution_count": 16,
   "metadata": {},
   "outputs": [],
   "source": [
    "X= wine.data\n",
    "y = wine.target"
   ]
  },
  {
   "cell_type": "code",
   "execution_count": 17,
   "metadata": {},
   "outputs": [
    {
     "data": {
      "text/plain": [
       "0.9891891891891891"
      ]
     },
     "execution_count": 17,
     "metadata": {},
     "output_type": "execute_result"
    }
   ],
   "source": [
    "score = cross_val_score(RidgeClassifier(), X, y, cv=5).mean()\n",
    "score"
   ]
  },
  {
   "cell_type": "code",
   "execution_count": 18,
   "metadata": {},
   "outputs": [
    {
     "name": "stdout",
     "output_type": "stream",
     "text": [
      "max score: 0.9945945945945945, alpha = 0.7346938775510203\n"
     ]
    }
   ],
   "source": [
    "score = []\n",
    "for i in np.linspace(0,1,50):\n",
    "    score.append(cross_val_score(RidgeClassifier(alpha=i), X, y, cv=5).mean())\n",
    "print(f'max score: {max(score)}, alpha = {np.linspace(0,1,50)[score.index(max(score))]}')"
   ]
  }
 ],
 "metadata": {
  "kernelspec": {
   "display_name": "Python 3",
   "language": "python",
   "name": "python3"
  },
  "language_info": {
   "codemirror_mode": {
    "name": "ipython",
    "version": 3
   },
   "file_extension": ".py",
   "mimetype": "text/x-python",
   "name": "python",
   "nbconvert_exporter": "python",
   "pygments_lexer": "ipython3",
   "version": "3.7.3"
  }
 },
 "nbformat": 4,
 "nbformat_minor": 2
}
